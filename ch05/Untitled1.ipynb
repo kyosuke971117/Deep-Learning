{
 "cells": [
  {
   "cell_type": "code",
   "execution_count": 7,
   "metadata": {
    "collapsed": true
   },
   "outputs": [],
   "source": [
    "import pandas as pd\n",
    "import numpy as np\n",
    "\n",
    "def kdd_load():\n",
    "# ##################################\n",
    "# # 学習用のデータをKDDTrain+から取得\n",
    "# ##################################\n",
    "    kdd_dataset = pd.read_csv('../../NSL-KDD_AAE_hara/NSL-KDD_AAE_hara/NSL_KDD_data/KDDTrain+.csv')\n",
    "\n",
    "    kdd_dataset['service']= kdd_dataset['service'].map({\n",
    "    \"ftp_data\":0,\n",
    "    \"other\":1,\n",
    "    \"private\":2,\n",
    "    \"http\":3,\n",
    "    \"remote_job\":4,\n",
    "    \"name\":5,\n",
    "    \"netbios_ns\":6,\n",
    "    \"eco_i\":7,\n",
    "    \"mtp\":8,\n",
    "    \"telnet\":9,\n",
    "    \"finger\":10,\n",
    "    \"domain_u\":11,\n",
    "    \"supdup\":12,\n",
    "    \"uucp_path\":13,\n",
    "    \"Z39_50\":14,\n",
    "    \"smtp\":15,\n",
    "    \"csnet_ns\":16,\n",
    "    \"uucp\":17,\n",
    "    \"netbios_dgm\":18,\n",
    "    \"urp_i\":19,\n",
    "    \"auth\":20,\n",
    "    \"domain\":21,\n",
    "    \"ftp\":22,\n",
    "    \"bgp\":23,\n",
    "    \"ldap\":24,\n",
    "    \"ecr_i\":25,\n",
    "    \"gopher\":26,\n",
    "    \"vmnet\":27,\n",
    "    \"systat\":28,\n",
    "    \"http_443\":29,\n",
    "    \"efs\":30,\n",
    "    \"whois\":31,\n",
    "    \"imap4\":32,\n",
    "    \"iso_tsap\":33,\n",
    "    \"echo\":34,\n",
    "    \"klogin\":35,\n",
    "    \"link\":36,\n",
    "    \"sunrpc\":37,\n",
    "    \"login\":38,\n",
    "    \"kshell\":39,\n",
    "    \"sql_net\":40,\n",
    "    \"time\":41,\n",
    "    \"hostnames\":42,\n",
    "    \"exec\":43,\n",
    "    \"ntp_u\":44,\n",
    "    \"discard\":45,\n",
    "    \"nntp\":46,\n",
    "    \"courier\":47,\n",
    "    \"ctf\":48,\n",
    "    \"ssh\":49,\n",
    "    \"daytime\":50,\n",
    "    \"shell\":51,\n",
    "    \"netstat\":52,\n",
    "    \"pop_3\":53,\n",
    "    \"nnsp\":54,\n",
    "    \"IRC\":55,\n",
    "    \"pop_2\":56,\n",
    "    \"printer\":57,\n",
    "    \"tim_i\":58,\n",
    "    \"pm_dump\":59,\n",
    "    \"red_i\":60,\n",
    "    \"netbios_ssn\":61,\n",
    "    \"rje\":62,\n",
    "    \"X11\":63,\n",
    "    \"urh_i\":64,\n",
    "    \"http_8001\":65,\n",
    "    \"aol\":66,\n",
    "    \"http_2784\":67,\n",
    "    \"tftp_u\":68,\n",
    "    \"harvest\":69\n",
    "    })\n"
   ]
  },
  {
   "cell_type": "code",
   "execution_count": 10,
   "metadata": {},
   "outputs": [],
   "source": [
    "a = 1"
   ]
  },
  {
   "cell_type": "code",
   "execution_count": 17,
   "metadata": {},
   "outputs": [
    {
     "name": "stdout",
     "output_type": "stream",
     "text": [
      "1\n"
     ]
    }
   ],
   "source": []
  },
  {
   "cell_type": "code",
   "execution_count": null,
   "metadata": {
    "collapsed": true
   },
   "outputs": [],
   "source": []
  }
 ],
 "metadata": {
  "kernelspec": {
   "display_name": "Python 3",
   "language": "python",
   "name": "python3"
  },
  "language_info": {
   "codemirror_mode": {
    "name": "ipython",
    "version": 3
   },
   "file_extension": ".py",
   "mimetype": "text/x-python",
   "name": "python",
   "nbconvert_exporter": "python",
   "pygments_lexer": "ipython3",
   "version": "3.6.8"
  }
 },
 "nbformat": 4,
 "nbformat_minor": 2
}
