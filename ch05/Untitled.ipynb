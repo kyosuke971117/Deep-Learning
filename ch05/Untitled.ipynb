{
 "cells": [
  {
   "cell_type": "code",
   "execution_count": 1,
   "metadata": {
    "collapsed": true
   },
   "outputs": [],
   "source": [
    "import sys, os\n",
    "sys.path.append(os.pardir)\n",
    "import numpy as np\n",
    "import matplotlib.pyplot as plt\n",
    "from two_layer_net import TwoLayerNet\n",
    "from multi_layer_net import MultiLayerNet\n",
    "from kdd_load_2classes import *\n",
    "from dataset_class import *"
   ]
  },
  {
   "cell_type": "code",
   "execution_count": 2,
   "metadata": {},
   "outputs": [
    {
     "name": "stdout",
     "output_type": "stream",
     "text": [
      "TrainDataCount-------------------------------------------------------------\n",
      "0    67343\n",
      "1    58630\n",
      "Name: AttackTypes, dtype: int64\n",
      "TestDataCount-------------------------------------------------------------\n",
      "0    67343\n",
      "1    58630\n",
      "Name: AttackTypes, dtype: int64\n",
      "[[  0.00000000e+00   0.00000000e+00   0.00000000e+00 ...,   0.00000000e+00\n",
      "    0.00000000e+00   0.00000000e+00]\n",
      " [  6.99170341e-05   5.89145827e-07   2.54974026e-07 ...,   0.00000000e+00\n",
      "    0.00000000e+00   0.00000000e+00]\n",
      " [  0.00000000e+00   0.00000000e+00   0.00000000e+00 ...,   0.00000000e+00\n",
      "    0.00000000e+00   0.00000000e+00]\n",
      " ..., \n",
      " [  0.00000000e+00   0.00000000e+00   0.00000000e+00 ...,   0.00000000e+00\n",
      "    0.00000000e+00   0.00000000e+00]\n",
      " [  0.00000000e+00   4.64504922e-07   0.00000000e+00 ...,   0.00000000e+00\n",
      "    0.00000000e+00   0.00000000e+00]\n",
      " [  0.00000000e+00   3.26095488e-08   5.34376667e-08 ...,   0.00000000e+00\n",
      "    0.00000000e+00   0.00000000e+00]] [1 0 1 ..., 1 0 0]\n",
      "[[  0.00000000e+00   3.55806407e-07   0.00000000e+00 ...,   0.00000000e+00\n",
      "    0.00000000e+00   0.00000000e+00]\n",
      " [  0.00000000e+00   1.05799870e-07   0.00000000e+00 ...,   0.00000000e+00\n",
      "    0.00000000e+00   0.00000000e+00]\n",
      " [  0.00000000e+00   0.00000000e+00   0.00000000e+00 ...,   0.00000000e+00\n",
      "    0.00000000e+00   0.00000000e+00]\n",
      " ..., \n",
      " [  0.00000000e+00   1.61670903e-06   2.93143785e-07 ...,   0.00000000e+00\n",
      "    0.00000000e+00   0.00000000e+00]\n",
      " [  0.00000000e+00   0.00000000e+00   0.00000000e+00 ...,   0.00000000e+00\n",
      "    0.00000000e+00   0.00000000e+00]\n",
      " [  0.00000000e+00   1.09423155e-07   0.00000000e+00 ...,   0.00000000e+00\n",
      "    0.00000000e+00   0.00000000e+00]] [0 0 1 ..., 0 1 0]\n"
     ]
    }
   ],
   "source": [
    "# kdd_load_2classes.pyからTrain,Testデータを取得\n",
    "kdd_label, kdd_data, kdd_type, kdd_label_test, kdd_data_test, kdd_type_test = kdd_load()\n",
    "\n",
    "#dataset_class.pyを使用してデータを格納\n",
    "#各クラスの一定割合をラベル付きデータにする\n",
    "dataset = Dataset(train=(kdd_data, kdd_label),test=(kdd_data_test, kdd_label_test))\n",
    "x_train, t_train = dataset.get_labeled_data()\n",
    "x_test, t_test = dataset.get_test_data()\n",
    "\n",
    "print(x_train, t_train)\n",
    "print(x_test, t_test)"
   ]
  },
  {
   "cell_type": "code",
   "execution_count": 3,
   "metadata": {
    "collapsed": true
   },
   "outputs": [],
   "source": [
    "network = TwoLayerNet(input_size=122, hidden_size=50, output_size=2)\n",
    "\n",
    "iters_num = 1000000\n",
    "train_size = x_train.shape[0]\n",
    "batch_size = 100\n",
    "learning_rate = 0.1\n",
    "\n",
    "train_loss_list = []\n",
    "train_acc_list = []\n",
    "test_acc_list = []\n",
    "\n",
    "iter_per_epoch = max(train_size / batch_size, 1)"
   ]
  },
  {
   "cell_type": "code",
   "execution_count": null,
   "metadata": {
    "scrolled": true
   },
   "outputs": [
    {
     "name": "stdout",
     "output_type": "stream",
     "text": [
      "0.534579933848 0.534582807427\n",
      "0.978231532525 0.978146110675\n",
      "0.979175303197 0.979019313662\n",
      "0.982729878721 0.982678828003\n",
      "0.985049614112 0.984703071293\n",
      "0.98822491731 0.988005366229\n",
      "0.989415656009 0.989283417875\n",
      "0.988321940463 0.98823557429\n",
      "0.991073869901 0.990990132806\n",
      "0.991338478501 0.991252093703\n",
      "0.99144432194 0.991260031912\n",
      "0.992141124587 0.992045914601\n",
      "0.992608599779 0.992490454304\n",
      "0.991100330761 0.990926627134\n",
      "0.992714443219 0.992577774602\n",
      "0.993243660419 0.993101696395\n",
      "0.993314222712 0.993157263858\n",
      "0.993155457552 0.993093758186\n",
      "0.993076074972 0.992974685052\n",
      "0.994037486218 0.99391933192\n",
      "0.993869900772 0.993744691323\n",
      "0.993772877619 0.993641494606\n",
      "0.993649393605 0.993585927143\n",
      "0.994478500551 0.994419439086\n",
      "0.994769570011 0.994665523565\n",
      "0.994954796031 0.994824287744\n",
      "0.994637265711 0.994530574012\n",
      "0.995545755237 0.995403777\n",
      "0.995034178611 0.994959237297\n",
      "0.995413450937 0.995268827447\n",
      "0.995131201764 0.995046557596\n",
      "0.995342888644 0.995221198193\n",
      "0.99627783903 0.996094401181\n",
      "0.995819184123 0.995689552523\n",
      "0.995977949283 0.99587213133\n",
      "0.99603969129 0.995943575211\n",
      "0.995739801544 0.995530788344\n",
      "0.996418963616 0.996276979988\n",
      "0.995572216097 0.995499035508\n",
      "0.996286659316 0.996237288943\n",
      "0.980877618523 0.980741905011\n",
      "0.995766262404 0.995649861478\n",
      "0.996498346196 0.996388114914\n",
      "0.99601323043 0.995959451629\n",
      "0.99656890849 0.996396053122\n",
      "0.99630429989 0.996189659689\n",
      "0.996930540243 0.996800901781\n",
      "0.996762954796 0.996642137601\n",
      "0.996321940463 0.996229350734\n",
      "0.996427783903 0.996276979988\n",
      "0.996692392503 0.996610384765\n",
      "0.996480705623 0.99641192954\n",
      "0.996939360529 0.996824716407\n",
      "0.996701212789 0.996618322974\n",
      "0.996771775083 0.996642137601\n",
      "0.996921719956 0.996792963572\n",
      "0.996868798236 0.996777087154\n"
     ]
    }
   ],
   "source": [
    "\n",
    "for i in range(iters_num):\n",
    "    batch_mask = np.random.choice(train_size, batch_size)\n",
    "    x_batch = x_train[batch_mask]\n",
    "    t_batch = t_train[batch_mask]\n",
    "    \n",
    "    # 勾配\n",
    "    #grad = network.numerical_gradient(x_batch, t_batch)\n",
    "    grad = network.gradient(x_batch, t_batch)\n",
    "    \n",
    "    # 更新\n",
    "    for key in ('W1', 'b1', 'W2', 'b2'):\n",
    "        network.params[key] -= learning_rate * grad[key]\n",
    "    \n",
    "    loss = network.loss(x_batch, t_batch)\n",
    "    train_loss_list.append(loss)\n",
    "    \n",
    "    if i % iter_per_epoch == 0:\n",
    "        train_acc = network.accuracy(x_train, t_train)\n",
    "        test_acc = network.accuracy(x_test, t_test)\n",
    "        train_acc_list.append(train_acc)\n",
    "        test_acc_list.append(test_acc)\n",
    "        print(train_acc, test_acc)\n",
    "\n",
    "# グラフの描画\n",
    "markers = {'train': 'o', 'test': 's'}\n",
    "x = np.arange(len(train_acc_list))\n",
    "plt.plot(x, train_acc_list, label='train_acc')\n",
    "plt.plot(x, test_acc_list, label='test_acc', linestyle='--')\n",
    "plt.xlabel(\"epochs\")\n",
    "plt.ylabel(\"accuracy\")\n",
    "plt.ylim(0, 1.0)\n",
    "plt.legend(loc='lower right')\n",
    "plt.show()\n"
   ]
  },
  {
   "cell_type": "code",
   "execution_count": null,
   "metadata": {
    "collapsed": true
   },
   "outputs": [],
   "source": []
  }
 ],
 "metadata": {
  "kernelspec": {
   "display_name": "Python 3",
   "language": "python",
   "name": "python3"
  },
  "language_info": {
   "codemirror_mode": {
    "name": "ipython",
    "version": 3
   },
   "file_extension": ".py",
   "mimetype": "text/x-python",
   "name": "python",
   "nbconvert_exporter": "python",
   "pygments_lexer": "ipython3",
   "version": "3.6.8"
  }
 },
 "nbformat": 4,
 "nbformat_minor": 2
}
